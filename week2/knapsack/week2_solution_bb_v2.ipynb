{
 "cells": [
  {
   "cell_type": "code",
   "execution_count": 2,
   "metadata": {},
   "outputs": [],
   "source": [
    "import sys\n",
    "import os\n",
    "from collections import namedtuple\n",
    "import pandas as pd\n",
    "import numpy as np\n",
    "Item = namedtuple(\"Item\", ['index', 'value', 'weight'])"
   ]
  },
  {
   "cell_type": "code",
   "execution_count": 3,
   "metadata": {},
   "outputs": [],
   "source": [
    "current_dir = os.getcwd()\n",
    "data1_dir = './data/ks_4_0'"
   ]
  },
  {
   "cell_type": "markdown",
   "metadata": {},
   "source": [
    "## Step1: Read files\n"
   ]
  },
  {
   "cell_type": "code",
   "execution_count": 4,
   "metadata": {},
   "outputs": [
    {
     "name": "stdout",
     "output_type": "stream",
     "text": [
      "4 11\n",
      "8 4\n",
      "10 5\n",
      "15 8\n",
      "4 3\n",
      "\n"
     ]
    }
   ],
   "source": [
    "with open(data1_dir, 'r') as input_data_file:\n",
    "    input_data = input_data_file.read()\n",
    "    \n",
    "print(input_data)\n"
   ]
  },
  {
   "cell_type": "markdown",
   "metadata": {},
   "source": [
    "## Step2: Preprocess the data"
   ]
  },
  {
   "cell_type": "code",
   "execution_count": 10,
   "metadata": {},
   "outputs": [
    {
     "data": {
      "text/html": [
       "<div>\n",
       "<style scoped>\n",
       "    .dataframe tbody tr th:only-of-type {\n",
       "        vertical-align: middle;\n",
       "    }\n",
       "\n",
       "    .dataframe tbody tr th {\n",
       "        vertical-align: top;\n",
       "    }\n",
       "\n",
       "    .dataframe thead th {\n",
       "        text-align: right;\n",
       "    }\n",
       "</style>\n",
       "<table border=\"1\" class=\"dataframe\">\n",
       "  <thead>\n",
       "    <tr style=\"text-align: right;\">\n",
       "      <th></th>\n",
       "      <th>values</th>\n",
       "      <th>weight</th>\n",
       "    </tr>\n",
       "  </thead>\n",
       "  <tbody>\n",
       "    <tr>\n",
       "      <th>0</th>\n",
       "      <td>8</td>\n",
       "      <td>4</td>\n",
       "    </tr>\n",
       "    <tr>\n",
       "      <th>1</th>\n",
       "      <td>10</td>\n",
       "      <td>5</td>\n",
       "    </tr>\n",
       "    <tr>\n",
       "      <th>2</th>\n",
       "      <td>15</td>\n",
       "      <td>8</td>\n",
       "    </tr>\n",
       "    <tr>\n",
       "      <th>3</th>\n",
       "      <td>4</td>\n",
       "      <td>3</td>\n",
       "    </tr>\n",
       "  </tbody>\n",
       "</table>\n",
       "</div>"
      ],
      "text/plain": [
       "   values  weight\n",
       "0       8       4\n",
       "1      10       5\n",
       "2      15       8\n",
       "3       4       3"
      ]
     },
     "execution_count": 10,
     "metadata": {},
     "output_type": "execute_result"
    }
   ],
   "source": [
    "# Initialise the variables\n",
    "# parse the input\n",
    "lines = input_data.split('\\n')\n",
    "\n",
    "firstLine = lines[0].split()\n",
    "item_count = int(firstLine[0])\n",
    "capacity = int(firstLine[1])\n",
    "\n",
    "items = []\n",
    "\n",
    "# repeat for all\n",
    "\n",
    "for i in range(1, item_count+1):\n",
    "    line = lines[i]\n",
    "    parts = line.split()\n",
    "    items.append(Item(i-1, int(parts[0]), int(parts[1])))\n",
    "    if i == 1: # initialise new variables\n",
    "        values = [int(parts[0])]\n",
    "        weight = [int(parts[1])]\n",
    "    else:\n",
    "        values.append(int(parts[0]))\n",
    "        weight.append(int(parts[1]))\n",
    "        \n",
    "available_item_df = pd.DataFrame({\"values\":values, \"weight\":weight})\n",
    "available_item_df"
   ]
  },
  {
   "cell_type": "code",
   "execution_count": 6,
   "metadata": {},
   "outputs": [],
   "source": [
    "from queue import Queue\n",
    "from collections import deque"
   ]
  },
  {
   "cell_type": "code",
   "execution_count": 7,
   "metadata": {},
   "outputs": [],
   "source": [
    "class Node:\n",
    "    def __init__(self):\n",
    "        self.level = None\n",
    "        self.profit = None\n",
    "        self.bound = None\n",
    "        self.weight = None\n",
    "        self.contains = []\n",
    "\n",
    "    def __str__(self):\n",
    "        return \"Level: %s Profit: %s Bound: %s Weight: %s\" % (self.level, self.profit, self.bound, self.weight)"
   ]
  },
  {
   "cell_type": "code",
   "execution_count": 18,
   "metadata": {},
   "outputs": [],
   "source": [
    "def bound(node, n, W, items):\n",
    "    if(node.weight >= W):\n",
    "        return 0\n",
    "\n",
    "    profit_bound = int(node.profit)\n",
    "    j = node.level + 1\n",
    "    totweight = int(node.weight)\n",
    "\n",
    "    while ((j < n) and (totweight + items[j].weight) <= W):\n",
    "        totweight += items[j].weight\n",
    "        profit_bound += items[j].value\n",
    "        j += 1\n",
    "\n",
    "    if(j < n):\n",
    "        profit_bound += (W - totweight) * items[j].value / float(items[j].weight)\n",
    "\n",
    "    return profit_bound\n",
    "\n",
    "# Q = deque([])\n",
    "\n",
    "def KnapSackBranchNBound(weight, items, total_items):\n",
    "    Q = deque([])\n",
    "    items = sorted(items, key=lambda x: x.value/float(x.weight), reverse=True)\n",
    "\n",
    "    u = Node()\n",
    "\n",
    "    u.level = -1\n",
    "    u.profit = 0\n",
    "    u.weight = 0\n",
    "\n",
    "    Q.append(u)\n",
    "    maxProfit = 0\n",
    "    bestItems = []\n",
    "\n",
    "    while (len(Q) != 0):\n",
    "\n",
    "        u = Q[0]\n",
    "        Q.popleft()\n",
    "        v = Node()\n",
    "\n",
    "        if u.level == -1:\n",
    "            v.level = 0\n",
    "\n",
    "        if u.level == total_items - 1:\n",
    "            continue\n",
    "\n",
    "        v.level = u.level + 1\n",
    "        v.weight = u.weight + items[v.level].weight\n",
    "        v.profit = u.profit + items[v.level].value\n",
    "        v.contains = list(u.contains)\n",
    "        v.contains.append(items[v.level].index)\n",
    "\n",
    "        if (v.weight <= weight and v.profit > maxProfit):\n",
    "            maxProfit = v.profit\n",
    "            bestItems = v.contains\n",
    "\n",
    "        v.bound = bound(v, total_items, weight, items)\n",
    "        if (v.bound > maxProfit):\n",
    "            # print v\n",
    "            Q.append(v)\n",
    "\n",
    "        v = Node()\n",
    "        v.level = u.level + 1\n",
    "        v.weight = u.weight\n",
    "        v.profit = u.profit\n",
    "        v.contains = list(u.contains)\n",
    "\n",
    "        v.bound = bound(v, total_items, weight, items)\n",
    "        if (v.bound > maxProfit):\n",
    "            # print v\n",
    "            Q.append(v)\n",
    "\n",
    "    taken = [0] * len(items)\n",
    "    for i in range(len(bestItems)):\n",
    "        taken[bestItems[i]] = 1\n",
    "\n",
    "    return maxProfit, taken"
   ]
  },
  {
   "cell_type": "code",
   "execution_count": 9,
   "metadata": {},
   "outputs": [],
   "source": [
    "def get_solution(optimal_value, taken):\n",
    "    output_data = None\n",
    "    output_data = str(optimal_value) + ' ' + str(1) + '\\n'\n",
    "    output_data += ' '.join(map(str, taken))\n",
    "    return output_data"
   ]
  },
  {
   "cell_type": "code",
   "execution_count": 19,
   "metadata": {},
   "outputs": [],
   "source": [
    "kbb, taken = KnapSackBranchNBound(capacity, items, item_count)"
   ]
  },
  {
   "cell_type": "code",
   "execution_count": 20,
   "metadata": {},
   "outputs": [
    {
     "data": {
      "text/plain": [
       "19"
      ]
     },
     "execution_count": 20,
     "metadata": {},
     "output_type": "execute_result"
    }
   ],
   "source": [
    "kbb"
   ]
  },
  {
   "cell_type": "code",
   "execution_count": 21,
   "metadata": {},
   "outputs": [
    {
     "data": {
      "text/plain": [
       "[0, 0, 1, 1]"
      ]
     },
     "execution_count": 21,
     "metadata": {},
     "output_type": "execute_result"
    }
   ],
   "source": [
    "taken"
   ]
  }
 ],
 "metadata": {
  "interpreter": {
   "hash": "cc2ec5be89986ec2d27ed0621d7c177f7f8952a489b06da677f1b0ac99506c9f"
  },
  "kernelspec": {
   "display_name": "Python 3.8.5 64-bit ('base': conda)",
   "language": "python",
   "name": "python3"
  },
  "language_info": {
   "codemirror_mode": {
    "name": "ipython",
    "version": 3
   },
   "file_extension": ".py",
   "mimetype": "text/x-python",
   "name": "python",
   "nbconvert_exporter": "python",
   "pygments_lexer": "ipython3",
   "version": "3.8.11"
  },
  "orig_nbformat": 4
 },
 "nbformat": 4,
 "nbformat_minor": 2
}
