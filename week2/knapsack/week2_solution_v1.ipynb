{
 "cells": [
  {
   "cell_type": "code",
   "execution_count": 1,
   "metadata": {},
   "outputs": [],
   "source": [
    "import sys\n",
    "import os\n",
    "from collections import namedtuple\n",
    "import pandas as pd\n",
    "import numpy as np\n",
    "Item = namedtuple(\"Item\", ['index', 'value', 'weight'])"
   ]
  },
  {
   "cell_type": "code",
   "execution_count": 2,
   "metadata": {},
   "outputs": [],
   "source": [
    "current_dir = os.getcwd()\n",
    "data1_dir = './data/ks_4_0'"
   ]
  },
  {
   "cell_type": "markdown",
   "metadata": {},
   "source": [
    "## Step1: Read files\n"
   ]
  },
  {
   "cell_type": "code",
   "execution_count": 39,
   "metadata": {},
   "outputs": [
    {
     "name": "stdout",
     "output_type": "stream",
     "text": [
      "4 11\n",
      "8 4\n",
      "10 5\n",
      "15 8\n",
      "4 3\n",
      "\n"
     ]
    }
   ],
   "source": [
    "with open(data1_dir, 'r') as input_data_file:\n",
    "    input_data = input_data_file.read()\n",
    "    \n",
    "print(input_data)\n"
   ]
  },
  {
   "cell_type": "markdown",
   "metadata": {},
   "source": [
    "## Step2: Preprocess the data"
   ]
  },
  {
   "cell_type": "code",
   "execution_count": 40,
   "metadata": {},
   "outputs": [],
   "source": [
    "# Initialise the variables\n",
    "# parse the input\n",
    "lines = input_data.split('\\n')\n",
    "\n",
    "firstLine = lines[0].split()\n",
    "item_count = int(firstLine[0])\n",
    "capacity = int(firstLine[1])\n",
    "\n",
    "items = []\n",
    "\n",
    "# repeat for all\n",
    "\n",
    "for i in range(1, item_count+1):\n",
    "    line = lines[i]\n",
    "    parts = line.split()\n",
    "    items.append(Item(i-1, int(parts[0]), int(parts[1])))"
   ]
  },
  {
   "cell_type": "code",
   "execution_count": 41,
   "metadata": {},
   "outputs": [
    {
     "data": {
      "text/plain": [
       "[Item(index=0, value=8, weight=4),\n",
       " Item(index=1, value=10, weight=5),\n",
       " Item(index=2, value=15, weight=8),\n",
       " Item(index=3, value=4, weight=3)]"
      ]
     },
     "execution_count": 41,
     "metadata": {},
     "output_type": "execute_result"
    }
   ],
   "source": [
    "items"
   ]
  },
  {
   "cell_type": "markdown",
   "metadata": {},
   "source": [
    "## Step3: Solver implementation"
   ]
  },
  {
   "cell_type": "code",
   "execution_count": 42,
   "metadata": {},
   "outputs": [],
   "source": [
    "# Algo 1: take every item until it becomes full\n",
    "value = 0\n",
    "weight = 0\n",
    "taken = [0]*len(items)\n",
    "\n",
    "for item in items:\n",
    "    if weight + item.weight <= capacity:\n",
    "        taken[item.index] = 1\n",
    "        value += item.value\n",
    "        weight += item.weight"
   ]
  },
  {
   "cell_type": "code",
   "execution_count": 43,
   "metadata": {},
   "outputs": [
    {
     "data": {
      "text/plain": [
       "[Item(index=0, value=8, weight=4),\n",
       " Item(index=1, value=10, weight=5),\n",
       " Item(index=2, value=15, weight=8),\n",
       " Item(index=3, value=4, weight=3)]"
      ]
     },
     "execution_count": 43,
     "metadata": {},
     "output_type": "execute_result"
    }
   ],
   "source": [
    "items"
   ]
  },
  {
   "cell_type": "markdown",
   "metadata": {},
   "source": [
    "## Step4: post-processing output"
   ]
  },
  {
   "cell_type": "code",
   "execution_count": 45,
   "metadata": {},
   "outputs": [
    {
     "data": {
      "text/plain": [
       "'18 0\\n1 1 0 0'"
      ]
     },
     "execution_count": 45,
     "metadata": {},
     "output_type": "execute_result"
    }
   ],
   "source": [
    "output_data = str(value) + ' ' + str(0) + '\\n'\n",
    "output_data += ' '.join(map(str, taken))\n",
    "output_data"
   ]
  },
  {
   "cell_type": "markdown",
   "metadata": {},
   "source": [
    "# Improvise to df version"
   ]
  },
  {
   "cell_type": "markdown",
   "metadata": {},
   "source": [
    "## Step1: Read files\n"
   ]
  },
  {
   "cell_type": "code",
   "execution_count": 3,
   "metadata": {},
   "outputs": [
    {
     "name": "stdout",
     "output_type": "stream",
     "text": [
      "4 11\n",
      "8 4\n",
      "10 5\n",
      "15 8\n",
      "4 3\n",
      "\n"
     ]
    }
   ],
   "source": [
    "with open(data1_dir, 'r') as input_data_file:\n",
    "    input_data = input_data_file.read()\n",
    "    \n",
    "print(input_data)\n"
   ]
  },
  {
   "cell_type": "markdown",
   "metadata": {},
   "source": [
    "## Step2: Preprocess the data"
   ]
  },
  {
   "cell_type": "code",
   "execution_count": 4,
   "metadata": {},
   "outputs": [
    {
     "data": {
      "text/html": [
       "<div>\n",
       "<style scoped>\n",
       "    .dataframe tbody tr th:only-of-type {\n",
       "        vertical-align: middle;\n",
       "    }\n",
       "\n",
       "    .dataframe tbody tr th {\n",
       "        vertical-align: top;\n",
       "    }\n",
       "\n",
       "    .dataframe thead th {\n",
       "        text-align: right;\n",
       "    }\n",
       "</style>\n",
       "<table border=\"1\" class=\"dataframe\">\n",
       "  <thead>\n",
       "    <tr style=\"text-align: right;\">\n",
       "      <th></th>\n",
       "      <th>values</th>\n",
       "      <th>weight</th>\n",
       "    </tr>\n",
       "  </thead>\n",
       "  <tbody>\n",
       "    <tr>\n",
       "      <th>0</th>\n",
       "      <td>8</td>\n",
       "      <td>4</td>\n",
       "    </tr>\n",
       "    <tr>\n",
       "      <th>1</th>\n",
       "      <td>10</td>\n",
       "      <td>5</td>\n",
       "    </tr>\n",
       "    <tr>\n",
       "      <th>2</th>\n",
       "      <td>15</td>\n",
       "      <td>8</td>\n",
       "    </tr>\n",
       "    <tr>\n",
       "      <th>3</th>\n",
       "      <td>4</td>\n",
       "      <td>3</td>\n",
       "    </tr>\n",
       "  </tbody>\n",
       "</table>\n",
       "</div>"
      ],
      "text/plain": [
       "   values  weight\n",
       "0       8       4\n",
       "1      10       5\n",
       "2      15       8\n",
       "3       4       3"
      ]
     },
     "execution_count": 4,
     "metadata": {},
     "output_type": "execute_result"
    }
   ],
   "source": [
    "lines = input_data.split('\\n')\n",
    "lines\n",
    "\n",
    "# get number of item available & max_capa\n",
    "item_count = int(lines[0].split()[0])\n",
    "max_capa = int(lines[0].split()[1])\n",
    "\n",
    "for i in range(1, item_count+1):\n",
    "    line = lines[i]\n",
    "    parts = line.split()\n",
    "    if i == 1: # initialise new variables\n",
    "        values = [int(parts[0])]\n",
    "        weight = [int(parts[1])]\n",
    "    else:\n",
    "        values.append(int(parts[0]))\n",
    "        weight.append(int(parts[1]))\n",
    "\n",
    "available_item_df = pd.DataFrame({\"values\":values, \"weight\":weight})\n",
    "available_item_df"
   ]
  },
  {
   "cell_type": "markdown",
   "metadata": {},
   "source": [
    "## Step3: Solver implementation"
   ]
  },
  {
   "cell_type": "code",
   "execution_count": 55,
   "metadata": {},
   "outputs": [],
   "source": [
    "# Algo 1: take every item until it becomes full [improvised to df version]\n",
    "value = 0\n",
    "weight = 0\n",
    "taken = [0]*len(available_item_df)\n",
    "taken\n",
    "\n",
    "for index, row in available_item_df.iterrows():\n",
    "    if weight + available_item_df['weight'][index] <= max_capa:\n",
    "        taken[index] = 1\n",
    "        value += available_item_df['values'][index]\n",
    "        weight += available_item_df['weight'][index]"
   ]
  },
  {
   "cell_type": "code",
   "execution_count": 59,
   "metadata": {},
   "outputs": [],
   "source": [
    "# Algo 2: sort by highest value first, take until full [improvised to df version]\n",
    "value = 0\n",
    "weight = 0\n",
    "taken = [0]*len(available_item_df)\n",
    "taken\n",
    "\n",
    "available_item_df.sort_values(\"values\", ascending=False, inplace=True)\n",
    "\n",
    "for index, row in available_item_df.iterrows():\n",
    "    if weight + available_item_df['weight'][index] <= max_capa:\n",
    "        taken[index] = 1\n",
    "        value += available_item_df['values'][index]\n",
    "        weight += available_item_df['weight'][index]"
   ]
  },
  {
   "cell_type": "code",
   "execution_count": null,
   "metadata": {},
   "outputs": [],
   "source": [
    "# Algo 3: sort by highest value-weight ratio first, take until full [improvised to df version]\n",
    "value = 0\n",
    "weight = 0\n",
    "taken = [0]*len(available_item_df)\n",
    "\n",
    "\n",
    "available_item_df[\"value_weight_ratio\"] = available_item_df['values']/available_item_df['weight']\n",
    "available_item_df.sort_values(\"weight\", ascending=True, inplace=True)\n",
    "available_item_df.sort_values(\"value_weight_ratio\", ascending=False, inplace=True)\n",
    "\n",
    "for index, row in available_item_df.iterrows():\n",
    "    if weight + available_item_df['weight'][index] <= max_capa:\n",
    "        taken[index] = 1\n",
    "        value += available_item_df['values'][index]\n",
    "        weight += available_item_df['weight'][index]"
   ]
  },
  {
   "cell_type": "code",
   "execution_count": 13,
   "metadata": {},
   "outputs": [],
   "source": [
    "# Algo 4: dynamic programming - bottom-up approach (filling up the table)\n",
    "\n",
    "value_list = available_item_df['values'].to_list()\n",
    "weight_list = available_item_df['weight'].to_list()\n",
    "# value_list = [16,19,23,28]\n",
    "# weight_list =[2,3,4,5]\n",
    "number_of_item = len(weight_list)\n",
    "value = 0\n",
    "weight = 0\n",
    "taken = [0]*len(available_item_df)\n",
    "# max_capa_1 =7\n",
    "\n",
    "dp_tbl = pd.DataFrame(np.zeros((number_of_item+1, max_capa+1)))\n",
    "dp_picked = pd.DataFrame(np.zeros((number_of_item+1, max_capa+1)))\n",
    "\n",
    "for i in range(1, number_of_item+1):\n",
    "    for w in range(0, max_capa+1):\n",
    "\n",
    "        if weight_list[i-1] <= w:\n",
    "            dp_tbl.iloc[i, w] = max(dp_tbl.iloc[i-1, w], value_list[i-1] + dp_tbl.iloc[i-1, (w - weight_list[i-1])] )\n",
    "            dp_picked.iloc[i, w] = 1\n",
    "        else:\n",
    "            dp_tbl.iloc[i, w] = dp_tbl.iloc[i-1, w] \n",
    "            dp_picked.iloc[i, w] = 0\n",
    "\n",
    "\n",
    "w = max_capa\n",
    "taken_index =list()\n",
    "for i in range(number_of_item,0,-1):\n",
    "    if dp_picked.iloc[i, w] == True:\n",
    "        taken_index.append(i-1)\n",
    "        w = w - weight_list[i-1]\n",
    "\n",
    "for n in taken_index:\n",
    "    value += available_item_df['values'][n]\n",
    "    weight += available_item_df['weight'][n]\n",
    "    taken[n] = 1\n",
    "\n",
    "\n",
    "\n"
   ]
  },
  {
   "cell_type": "markdown",
   "metadata": {},
   "source": [
    "## Step4: Post-processsing"
   ]
  },
  {
   "cell_type": "code",
   "execution_count": 60,
   "metadata": {},
   "outputs": [
    {
     "data": {
      "text/plain": [
       "'19 0\\n0 0 1 1'"
      ]
     },
     "execution_count": 60,
     "metadata": {},
     "output_type": "execute_result"
    }
   ],
   "source": [
    "output_data = str(value) + ' ' + str(0) + '\\n'\n",
    "output_data += ' '.join(map(str, taken))\n",
    "output_data"
   ]
  },
  {
   "cell_type": "code",
   "execution_count": 61,
   "metadata": {},
   "outputs": [
    {
     "data": {
      "text/plain": [
       "11"
      ]
     },
     "execution_count": 61,
     "metadata": {},
     "output_type": "execute_result"
    }
   ],
   "source": [
    "max_capa"
   ]
  },
  {
   "cell_type": "code",
   "execution_count": 62,
   "metadata": {},
   "outputs": [
    {
     "data": {
      "text/html": [
       "<div>\n",
       "<style scoped>\n",
       "    .dataframe tbody tr th:only-of-type {\n",
       "        vertical-align: middle;\n",
       "    }\n",
       "\n",
       "    .dataframe tbody tr th {\n",
       "        vertical-align: top;\n",
       "    }\n",
       "\n",
       "    .dataframe thead th {\n",
       "        text-align: right;\n",
       "    }\n",
       "</style>\n",
       "<table border=\"1\" class=\"dataframe\">\n",
       "  <thead>\n",
       "    <tr style=\"text-align: right;\">\n",
       "      <th></th>\n",
       "      <th>values</th>\n",
       "      <th>weight</th>\n",
       "    </tr>\n",
       "  </thead>\n",
       "  <tbody>\n",
       "    <tr>\n",
       "      <th>2</th>\n",
       "      <td>15</td>\n",
       "      <td>8</td>\n",
       "    </tr>\n",
       "    <tr>\n",
       "      <th>1</th>\n",
       "      <td>10</td>\n",
       "      <td>5</td>\n",
       "    </tr>\n",
       "    <tr>\n",
       "      <th>0</th>\n",
       "      <td>8</td>\n",
       "      <td>4</td>\n",
       "    </tr>\n",
       "    <tr>\n",
       "      <th>3</th>\n",
       "      <td>4</td>\n",
       "      <td>3</td>\n",
       "    </tr>\n",
       "  </tbody>\n",
       "</table>\n",
       "</div>"
      ],
      "text/plain": [
       "   values  weight\n",
       "2      15       8\n",
       "1      10       5\n",
       "0       8       4\n",
       "3       4       3"
      ]
     },
     "execution_count": 62,
     "metadata": {},
     "output_type": "execute_result"
    }
   ],
   "source": [
    "available_item_df"
   ]
  }
 ],
 "metadata": {
  "interpreter": {
   "hash": "31737677780747fb6f0c0918fb1287143887628960923e9bfd8ad9482ae666bb"
  },
  "kernelspec": {
   "display_name": "Python 3.8.11 64-bit ('data-science': conda)",
   "name": "python3"
  },
  "language_info": {
   "codemirror_mode": {
    "name": "ipython",
    "version": 3
   },
   "file_extension": ".py",
   "mimetype": "text/x-python",
   "name": "python",
   "nbconvert_exporter": "python",
   "pygments_lexer": "ipython3",
   "version": "3.8.11"
  },
  "orig_nbformat": 4
 },
 "nbformat": 4,
 "nbformat_minor": 2
}
